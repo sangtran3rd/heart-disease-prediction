{
 "cells": [
  {
   "cell_type": "markdown",
   "metadata": {},
   "source": [
    "# COGS 118A - Final Project"
   ]
  },
  {
   "cell_type": "markdown",
   "metadata": {},
   "source": [
    "# Table of Contents\n",
    "* [Abstract](#section1)\n",
    "* [Backgound](#section2)\n",
    "* [Problem Statement](#section3)\n",
    "* [Data](#section4)\n",
    "* [Proposed Solution](#section5)\n",
    "* [Evaluation Metrics](#section6)\n",
    "* [Results](#section7)\n",
    "    * [Data Cleaning, Pre-Processing and EDA](#section_7_1)\n",
    "    * [Model Selection](#section_7_2)\n",
    "    * [Base Model With Voting Classifier](#section_7_3)\n",
    "    * [Hyperparameter Optimization With Random Search For Each Individual Classifier](#section_7_4)\n",
    "    * [Tuned Model With Voting Classifier](#section_7_5)\n",
    "    * [Accuracy Report For The Tuned Classifiers](#section_7_6)\n",
    "    * [Base and Tuned Model Classification Report](#section_7_7)\n",
    "    * [Benchmark Models Comparison](#section_7_8)\n",
    "    * [Hypothesis Testing](#section_7_9)\n",
    "    \n",
    "* [Dicussion](#section8)\n",
    "    * [Interpreting the result](#section_8_1)\n",
    "    * [Limitations](#section_8_2)\n",
    "    * [Ethics & Privacy](#section_8_3)\n",
    "    * [Conclusion](#section_8_4)\n",
    "* [Footnotes](#section9)          "
   ]
  },
  {
   "cell_type": "markdown",
   "metadata": {},
   "source": [
    "## Abstract<a id='section1'></a>  \n",
    "  Heart disease is the primary cause of death, and studying it is crucial for prevention and effective treatment. Identifying risk factors is essential, but it is difficult to pinpoint the exact ones when it comes to aging-related health problems. Although it has been widely believed that serum cholesterol level in the blood is one of the first attributes doctors should look at to predict one's chances of having cardiovascular diseases, recent studies suggests a different position. This study aimed to develop a new model predicting the presence of heart disease in patients using the binary classification label UCI heart disease dataset obtained from 1988. A voting classifier, whose estimators consist of logistic regression, support vector machine, k-nearest neighbors, random forest, adaboost, and xgboost, was used. Random search cross validations for the best hyper-parameters of the individual classifier were conducted, and a finalized tuned model with a voting classifier performance was compared to first the base model with a voting classifier and then the benchmark models. The performance evaluation metrics used are accuracy, recall, and precision. The study hypothesized that our final model with the exclusion of the cholesterol variable would produce similar performance scores on all three metrics. However, contrary to expectations, our findings indicate that the model performed worse than the benchmark models without the cholesterol variable. The accuracy and recall scores were negatively impacted."
   ]
  },
  {
   "cell_type": "markdown",
   "metadata": {},
   "source": [
    "## Background<a id='section2'></a>\n",
    "\n",
    "Cholesterol is an essential lipid found in our body and in all of human body's cells. Human body needs cholesterol to make hormones, vitamin D, and substances that aid digestion. Ever since first study on correlation between serum cholesterol level in the blood and cardiovascular disease was published in 1986 <a name=\"clark\"></a>[<sup>[1]</sup>](#clarknote), a widely adopted views by physicians and currrent literatures that high levels of cholesterol increase one's risk of heart disease, and stroke. The two main types of cholesterol are LDL (which are usually considered bad cholesterol in the literature) and HDL (good cholesterol). LDL cholesterol is found to be associated with an increased risk of heart disease and other health problems, while HDL cholesterol is associated with a decreased risk of such health complications. Other types of cholesterol include triglycerides and very low-density lipoprotein (VLDL) cholesterol. Triglycerides and LDL (low-density lipoprotein) are both types of lipids, or fats, found in the bloodstream. The main difference between the two is their composition and the way they are transported in the body. Triacylglycerols, which consist of three fatty acids, are the main form of fat stored in cells and are usually derived from dietary sources. LDL particles are composed of a core of cholesterol and a combination of triglycerides, phospholipids, and proteins. They play an important role in transporting cholesterol from the liver to other parts of the body. LDL cholesterol is transported from the liver to cells throughout the body and helps the body convert dietary fat into energy for the cells, thus when physicians warn patients of elevated levels of cholesterol, they usually mean high levels LDL.\n",
    "\n",
    "Into the early 2020s, with the rise of adoption of different dietary lifestyles such as ketogenic diet, carnivore diet and many variants between the two. The traditionally held belief on correlation between blood cholesterol level and heart disease has been challenged. A study in 2020 shows that low carbohydrate diets, which consists mainly animal fats or plant fats , in fact has a beneficial effect on cardiovascular risk factors <a name=\"dong\"></a>[<sup>[2]</sup>](#dongnote). In this particular area of research, it takes a lot of time, effort and money to carry out longitudial study. With the astronomical increase in research papers published every year, we are in a replication crisis <a name=\"wiki\"></a>[<sup>[3]</sup>](#wikipedia) and as noted by many intellectuals in the 21st century, this topic has been explored and discussed in great depth in the POS Medicine journal article  explaining why most of studies' findings are not reliable <a name=\"ioannidis\"></a>[<sup>[4]</sup>](#ioannidisjpa).\n",
    "\n",
    "In terms of dietary cholesterol, a paper <a name=\"soliman\"></a>[<sup>[5]</sup>](#solimannote) in 2018 concluded that dietary cholesterol does not increase heart disease risk in healthy individuals, but saturated fatty acids and trans-fats do. The inter-presence between cholesterol and saturated fatty acids in food may have led to the misconception that dietary cholesterol is harmful. This still implicitly suggests the current view is correct that physicians still should keep blood cholesterol levels in people that are not healthy in check, and in essense, does not explain when such readings will give insightful interpretation because definition of a \"healthy\" person can be varied by different physicians.\n",
    "\n",
    "In terms of serum cholesterol levels, although there are many subcatergories and types of cholesterol, current concensus on which one is the culprit has been recently debated and the one that gains most attention is LDL-C, low density lipoprotein cholesterol, which is considered very bad because it is hypothesized by many that they easily get into any blood vessels due to its low density structures. However, recent finding in 2022 <a name=\"rcsi\"></a>[<sup>[6]</sup>](#rcsinote) found that there is a very weak link in predicting cardiovascular disease based on LDL-C.  \n",
    "\n",
    "There are several limitations to the studies in this area of research. One that is worth noting is the number of observations can be very scarce because people do not have their lipid profile done annually until their doctors think that they show heart disease related symtoms. Replication from a different population should be conducted to generalize results, which can be time consuming and needs a lot of funding. \n",
    "\n",
    "Two best previous works on finding best classification model on the same dataset both shows about 90% accuracy and recall on average. Bhat's work <a name=\"Bhat\"></a>[<sup>[7]</sup>](#Bhatnote) uses ensembling method for the best three out of seven classifiers used to finalize the model while Rutecki <a name=\"Rutecki\"></a>[<sup>[8]</sup>](#Rutecki) uses voting classifier that comprises of ten estimators, which also produces about similar scores for both soft and hard voting. These two models will be used as benchmark models to evaluate the performance of our finalized model. If our hypothesis is correct, we should expect our model to achieve similar results. In other words, our model should yield similar scores in its predictive power compared to the benchmark models, without factoring in serum blood cholesterol level.     "
   ]
  },
  {
   "cell_type": "markdown",
   "metadata": {},
   "source": [
    "## Problem Statement<a id='section3'></a>\n",
    "\n",
    "In the face of overwhelmingly contradictory findings from the literature in medicine and nutrition, two questions can be raised: first, whether dietary fats have an influence on blood serum cholesterol levels, since most of the time the number one lifestyle advice physicians give to patients with elevated levels is to stay away from foods that are high in saturated fats; second, whether the cholesterol level in the blood is a good predictor of one's risk of heart disease. The former question should only be taken seriously if there is indeed a positive correlation between blood serum cholesterol level and heart disease.\n",
    "\n",
    "The hypothesis that this paper will attempt to test is that the serum cholesterol level in the blood is not a significantly strong predictor of the presence of heart disease in patients in our dataset. That is to say that we will attempt to find the best model by leaving out the serum cholesterol level feature while keeping the rest to classify the labels. We will use the tuned combination of logistic regression, support vector machine, random forest, k-nearest neighbors, adaboost, and xgboost for our voting classifier.     \n",
    "\n",
    "By providing results from this hypothesis test, we can contribute to the reconsideration of the interpretation of blood serum cholesterol as a risk factor for heart disease. This hypothesis can be reproduced and replicated by those who have access to our dataset, which is available for free online. <a name=\"uci\"></a>[<sup>[9]</sup>](#ucidata). "
   ]
  },
  {
   "cell_type": "markdown",
   "metadata": {},
   "source": [
    "## Data<a id='section4'></a> \n",
    "In the original heart disease dataset <a name=\"uci\"></a>[<sup>[9]</sup>](#ucidata) from UCI archive, it contains 76 attributes, but all published ML experiments refer to only processed Cleveland data and they use a subset of 14 attributes. Thus, in order for us to compare our model with others, we will use the same dataset, which contains 303 observations and 14 variables. Each observation consists of age (numerical), sex (catergorical), chest pain type (catergorical), resting blood pressure (numerical), serum cholestoral (numerical), fasting blood sugar (numerical), resting electrocardiographic results (catergorical), maximum heart rate achieved (numerical), exercise induced angina (catergorical), oldpeak (numerical), the slope of the peak exercise ST segment (catergorical), number of major vessels (catergorical), thal (catergorical), target (catergorical).\n",
    "\n",
    "The experiments conducted on the Cleveland database have focused on distinguishing between the presence (values 1, 2, 3, 4) and absence (value 0) of heart disease. Therefore, we will convert all integer values under our target column to 1 if the value is not 0. \n",
    "\n",
    "Some EDA and preprocessing that we will do: \n",
    "- check and drop duplicates \n",
    "- check missing values/wrong entries \n",
    "- check if variance of any feature column equals to 0 \n",
    "- drop cholesterol column \n",
    "- change the each column name for readability\n",
    "- evaluate data using heatmaps for missing values and correlation \n",
    "- check numerical outliers and apply appropiate methods to deal with observations containing such outliers if necessary\n",
    "- check target balances. <br> <br>\n",
    "\n",
    "Dataset Attributes:\n",
    "- Age (age; in years)\n",
    "- Sex (sex; 1: Male; 0: Female)\n",
    "- ChestPainType (cp or chest pain type; 1: typical angina, 2: atypical angina, 3: non-anginal pain, 4: asymptomatic)\n",
    "- RestingBP (trestbps or resting blood pressure measured in mm Hg on admission to the hospital)\n",
    "- Cholesterol (chol or serum cholestoral measured in mg/dl)\n",
    "- FastingBS (fbs or fasting blood sugar, measured in mg/dl; 1: if > 120 mg/dl, 0: otherwise)\n",
    "- RestingECG (restecg or resting electrocardiographic results; 0: Normal, 1: having ST-T wave abnormality (T wave inversions and/or ST elevation or depression of > 0.05 mV), 2: showing probable or definite left ventricular hypertrophy by Estes' criteria) \n",
    "- MaxHR (thalach or maximum heart rate achieved; numeric value between 60 and 202)\n",
    "- ExerciseAngina (exang or exercise induced angina; 1: Yes, 0: No)\n",
    "- Oldpeak (ST depression induced by exercise relative to rest, numeric value measured in depression) \n",
    "- ST_Slope (slope or the slope of the peak exercise ST segment, 1: upsloping, 2: flat, 3: downsloping) \n",
    "- N_MajorVessels (ca or number of major vessels colored by flourosopy; values: 0-3)\n",
    "- Thal (thal; 3 = normal; 6 = fixed defect; 7 = reversable defect)\n",
    "- HeartDisease (num or diagnosis of heart disease (angiographic disease status); Value 0: < 50% diameter narrowing, Value 1: > 50% diameter narrowing)"
   ]
  },
  {
   "cell_type": "markdown",
   "metadata": {},
   "source": [
    "# Proposed Solution<a id='section5'></a>\n",
    "\n",
    "To address the problem at hand, we suggest utilizing a voting classifier to predict the presence of heart disease in a patient while excluding the cholesterol feature. The outcomes from our model will be compared to the accuracy, recall, and precision scores of the two benchmark models, as previously discussed. Additionally, we will perform three hypothesis tests using the t-student statistic, with a significance level of 0.05, to determine whether we should reject the null hypothesises that the average accuracy, average precision, and the average of our model are the same as that of the benchmark models. Our assumptions are that the average accuracy, average precision, and the average recall are the population means.\n",
    "\n",
    "To build our classifier, we will utilize a combination of logistic regression, support vector machine, random forest, k-nearest neighbors, adaboost, and xgboost. Given that we are dealing with multiple classifiers, we will employ a random search to identify the best set of hyper-parameters within the search space instead of an exhaustive search. The number of iterations used for each random search will be determined by our assumption about our hardware capacity and the runtime of each classifier, with the main goal of returning the optimal model. \n",
    "\n",
    "Reasons for choosing the aforementioned estimators are as follows: logistic regression is used to classify binary labels as probability, support vector machine is effective in high-dimensional feature spaces, k-nearest neighbors is appropriate to use since we prioritize high accuracy, and the other classifiers (random forest, adaboost, and xgboost) are more accurate when it comes to classifying labels with a combination of numerical and categorical features or purely numeric features. Given the limited number of observations, we will use repeated k-fold cross-validation on recall with a default k-value of 5 to evaluate the model's ability to predict new data. Since heart attacks are life-threatening events, false negatives should be penalized in this context, thus it is sensible for us to also compare average recall scores. We will employ random search CV to search for the best set of hyperparameters for each classifier passed to the voting classifier based on the arguments allowed by the scikit-learn library. \n",
    "\n",
    "Hyperparameters to tune: solver, penalty and C for logistic regression classifier, kernel, gamma and C for support vector classifier, n_estimators, criterion, max_depth, max_features, min_samples_split, min_sample_leaf, and bootstrap for random forest classifier, n_neighbors, weights, algorithm, leaf_size, and p for K-Nearest Neighborhood, n_estimators, and learning_rate for Adaboost (keep default estimator to be decision tree classifier), and colsample_bytree, reg_alpha and reg_lambda for xgboost. \n",
    "\n",
    "Libraries will be used are scikit-learn, xgboost, pandas, numpy, matplotlib, and seaborn. All the machine learning algorithms will be called via scikit-learn library.<br>\n",
    "Functions needed to call the algorithms:<br>\n",
    "- sklearn.linear_model.LogisticRegression()<br>\n",
    "- sklearn.svm.SVC()<br>\n",
    "- sklearn.neighbors.KNeighborsClassifier()<br>\n",
    "- sklearn.ensemble.RandomForestClassifier()<br>\n",
    "- sklearn.ensemble.AdaBoostClassifier()<br>\n",
    "- xgboost.XGBClassifier()<br>\n",
    "- sklearn.ensemble.VotingClassifier()<br>\n",
    "\n",
    "We will use train-test-split for model selection with test size of 0.2 and keep default values for individual estimators for the base model. Then we will use random search for best hyper-parameters for each estimator. We expect our tuned model to perform better than the base, and thus will compare with the benchmark models, whose statistics are described below.\n",
    "\n",
    "The benchmark models statistics:<br>\n",
    "- By Bhat:<br>\n",
    "\n",
    "_accuracy1  : 91.8%<br>\n",
    "_precision1 : 91.4%<br>\n",
    "_recall1    : 94.1%<br> \n",
    "<br>\n",
    "\n",
    "- By Rutecki:<br>\n",
    "\n",
    "Hard Voting:<br> \n",
    "_accuracy2  : 89.7%<br>\n",
    "_precision2 : 89.6%<br>\n",
    "_recall2    : 92.0%<br>\n",
    "<br>\n",
    "Soft Voting:<br> \n",
    "_accuracy3  : 90.8%<br>\n",
    "_precision3 : 91.4%<br> \n",
    "_recall3   : 92.0%<br> \n",
    "\n",
    "Average Accuracy  = 90.7%<br> \n",
    "Average Precision = 90.8%<br> \n",
    "Average Recall    = 92.7%<br> "
   ]
  },
  {
   "cell_type": "markdown",
   "metadata": {},
   "source": [
    "## Evaluation Metrics<a id='section6'></a>\n",
    "\n",
    "We will use accuracy, recall, precision scores to compare the models. Making use of built in functions in scikit-learn library to compute confusion matrix, number of true poitives (TP), true negatives (TN), false positives (FP) and false negatives (FN).\n",
    "\n",
    "- A true positive (TP) prediction is a prediction where the model correctly identifies a positive instance. For example, in our heart disease diagnosis, a true positive prediction would mean that the model correctly diagnoses the presence of heart disease in a patient as positive.\n",
    "\n",
    "- A true negative (TN) prediction is a prediction where the model correctly identifies a negative instance. For example, in our heart disease diagnosis, a true negative prediction would mean that the model correctly diagnoses the presence of heart disease in a patient as negative.\n",
    "\n",
    "- A false positive (FP) prediction is a prediction where the model incorrectly identifies a negative instance as positive. For example, in our heart disease diagnosis, a false positive prediction would mean that the model diagnoses a patient without heart disease as positive.\n",
    "\n",
    "- A false negative (FN) prediction is a prediction where the model incorrectly identifies a positive instance as negative. For example, in our heart disease diagnosis, a false positive prediction would mean that the model diagnoses a patient with heart disease as negative.\n",
    "\n",
    "The mathematical equations for accuracy, recall, precision are expressed as follows:<br><br>\n",
    " $$Accuracy=\\frac{TN + TP}{TP + TN + FP + FN}$$<br>\n",
    " $$Precision=\\frac{TP}{TP + FP}$$<br>\n",
    " $$Recall=\\frac{TP}{TP + FN}$$<br>\n",
    "\n",
    "The accuracy metric is commonly used in machine learning to evaluate the performance of a classification model. It measures the proportion of correctly classified instances out of the total number of instances. Accuracy is a useful metric when the classes are balanced, meaning they have approximately the same number of instances. In this case, accuracy can provide a clear and straightforward measure of the model's overall performance.\n",
    "\n",
    "In predicting heart disease in patients, both false positive and false negative predictions can be costly, but they have different implications. \n",
    "- A false positive prediction in heart disease diagnosis means that a person is diagnosed with the disease even though they do not have it. This can lead to unnecessary treatment, which can be expensive, invasive, and potentially harmful to the patient. It can also cause psychological distress for the patient and their family. \n",
    "- A false negative prediction means that a person is diagnosed as not having the disease, even though they actually do. This can delay necessary treatment, leading to the progression of the disease and potentially worse outcomes. It can also cause the patient and their family to underestimate the severity of the condition, which can lead to a lack of follow-up or treatment.\n",
    "\n",
    "Overall, false negative predictions can be more costly in the long term, as they can lead to more severe health consequences. However, false positive predictions can also have negative consequences and should be minimized in clinical practice. When comparing machine learning models, it is essential to consider both precision and recall metrics, as they provide different types of information about the model's performance.\n",
    "\n",
    "- Precision measures the proportion of true positives among the instances predicted as positive. In the context of heart disease diagnosis, precision would indicate the proportion of patients who are correctly diagnosed with the disease among those who are diagnosed as positive. High precision means that the model is correctly identifying those who truly have the disease, but it may miss some patients who have the disease. \n",
    "\n",
    "- Recall, on the other hand, measures the proportion of true positives among all the actual positive instances. In the context of heart disease diagnosis, recall would indicate the proportion of patients who are correctly diagnosed with the disease among all patients who have the disease. High recall means that the model is correctly identifying most of the patients who have the disease, but it may also include some patients who do not have the disease.\n",
    "\n",
    "Therefore, in the case of heart disease diagnosis, accuracy, precision and recall are essential metrics to consider. High precision is crucial to avoid unnecessary treatments and false positives, while high recall is important to identify most of the patients who have the disease and avoid false negatives. Accuracy measures the proportion of correct predictions made by the model, or the percentage of cases in which the model correctly identifies the presence or absence of heart disease.\n",
    "\n"
   ]
  },
  {
   "cell_type": "markdown",
   "metadata": {},
   "source": [
    "## Results<a id='section7'></a>"
   ]
  },
  {
   "cell_type": "markdown",
   "metadata": {},
   "source": [
    "### Data Cleaning, Pre-Processing and EDA<a id='section_7_1'></a>"
   ]
  },
  {
   "cell_type": "markdown",
   "metadata": {},
   "source": [
    "##### Load Data, Change Column Names, And Drop Cholesterol Column"
   ]
  },
  {
   "cell_type": "code",
   "execution_count": 1,
   "metadata": {},
   "outputs": [],
   "source": [
    "import warnings\n",
    "warnings.simplefilter('ignore')\n",
    "import pandas as pd\n",
    "\n",
    "rawdata = pd.read_csv(\"https://archive.ics.uci.edu/ml/machine-learning-databases/heart-disease/processed.cleveland.data\", \n",
    "                      names = [\"Age\", \"Sex\", \"ChestPainType\", \"RestingBP\", \"Cholesterol\", \"FastingBS\", \"RestingECG\",\n",
    "                               \"MaxHR\", \"ExerciseAngina\", \"Oldpeak\", \"ST_Slope\", \"N_MajorVessels\", \"Thal\", \"HeartDisease\"])\n",
    "data = rawdata\n",
    "data = data.drop(columns=['Cholesterol'])"
   ]
  },
  {
   "cell_type": "markdown",
   "metadata": {},
   "source": [
    "##### Change target values to 1s and 0s"
   ]
  },
  {
   "cell_type": "code",
   "execution_count": 2,
   "metadata": {},
   "outputs": [
    {
     "data": {
      "text/plain": [
       "array([0, 2, 1, 3, 4])"
      ]
     },
     "execution_count": 2,
     "metadata": {},
     "output_type": "execute_result"
    }
   ],
   "source": [
    "data[\"HeartDisease\"].unique()"
   ]
  },
  {
   "cell_type": "code",
   "execution_count": 3,
   "metadata": {},
   "outputs": [
    {
     "data": {
      "text/plain": [
       "array([0, 1])"
      ]
     },
     "execution_count": 3,
     "metadata": {},
     "output_type": "execute_result"
    }
   ],
   "source": [
    "data[\"HeartDisease\"] = data.HeartDisease.apply(lambda x: 1 if x != 0 else x)\n",
    "data[\"HeartDisease\"].unique()"
   ]
  },
  {
   "cell_type": "markdown",
   "metadata": {},
   "source": [
    "##### Delete Duplicates and Reset Index"
   ]
  },
  {
   "cell_type": "code",
   "execution_count": 4,
   "metadata": {},
   "outputs": [],
   "source": [
    "data = data.drop_duplicates(keep='first')\n",
    "data = data.reset_index(drop=True)"
   ]
  },
  {
   "cell_type": "markdown",
   "metadata": {},
   "source": [
    "##### Detect And Drop Rows With Missing Values (NaN) or Wrong Entries Like Symbols -,?,#,*,etc.  "
   ]
  },
  {
   "cell_type": "code",
   "execution_count": 5,
   "metadata": {},
   "outputs": [
    {
     "name": "stdout",
     "output_type": "stream",
     "text": [
      "<class 'pandas.core.frame.DataFrame'>\n",
      "RangeIndex: 303 entries, 0 to 302\n",
      "Data columns (total 13 columns):\n",
      " #   Column          Non-Null Count  Dtype  \n",
      "---  ------          --------------  -----  \n",
      " 0   Age             303 non-null    float64\n",
      " 1   Sex             303 non-null    float64\n",
      " 2   ChestPainType   303 non-null    float64\n",
      " 3   RestingBP       303 non-null    float64\n",
      " 4   FastingBS       303 non-null    float64\n",
      " 5   RestingECG      303 non-null    float64\n",
      " 6   MaxHR           303 non-null    float64\n",
      " 7   ExerciseAngina  303 non-null    float64\n",
      " 8   Oldpeak         303 non-null    float64\n",
      " 9   ST_Slope        303 non-null    float64\n",
      " 10  N_MajorVessels  303 non-null    object \n",
      " 11  Thal            303 non-null    object \n",
      " 12  HeartDisease    303 non-null    int64  \n",
      "dtypes: float64(10), int64(1), object(2)\n",
      "memory usage: 30.9+ KB\n"
     ]
    }
   ],
   "source": [
    "data.info()"
   ]
  },
  {
   "cell_type": "markdown",
   "metadata": {},
   "source": [
    "Dtype for N_MajorVessels and Thal Columns is object, which suggests that these columns also contain symbols other than numerical values. "
   ]
  },
  {
   "cell_type": "code",
   "execution_count": 6,
   "metadata": {},
   "outputs": [
    {
     "name": "stdout",
     "output_type": "stream",
     "text": [
      "N_MajorVessels : ['0.0' '3.0' '2.0' '1.0' '?']\n",
      "Thal : ['6.0' '3.0' '7.0' '?']\n"
     ]
    }
   ],
   "source": [
    "for col in data.iloc[:,10:12]:\n",
    "    print('{} : {}'.format(col,data[col].unique()))"
   ]
  },
  {
   "cell_type": "code",
   "execution_count": 7,
   "metadata": {},
   "outputs": [],
   "source": [
    "import numpy as np\n",
    "\n",
    "for col in data.iloc[:,10:12]:\n",
    "    data[col].replace({'?':np.nan},inplace=True)"
   ]
  },
  {
   "cell_type": "code",
   "execution_count": 8,
   "metadata": {},
   "outputs": [
    {
     "data": {
      "text/plain": [
       "Age               0\n",
       "Sex               0\n",
       "ChestPainType     0\n",
       "RestingBP         0\n",
       "FastingBS         0\n",
       "RestingECG        0\n",
       "MaxHR             0\n",
       "ExerciseAngina    0\n",
       "Oldpeak           0\n",
       "ST_Slope          0\n",
       "N_MajorVessels    4\n",
       "Thal              2\n",
       "HeartDisease      0\n",
       "dtype: int64"
      ]
     },
     "execution_count": 8,
     "metadata": {},
     "output_type": "execute_result"
    }
   ],
   "source": [
    "data.isnull().sum()"
   ]
  },
  {
   "cell_type": "code",
   "execution_count": 9,
   "metadata": {},
   "outputs": [
    {
     "data": {
      "text/plain": [
       "<AxesSubplot:>"
      ]
     },
     "execution_count": 9,
     "metadata": {},
     "output_type": "execute_result"
    },
    {
     "data": {
      "image/png": "[encoded data removed]",
      "text/plain": [
       "<Figure size 432x288 with 1 Axes>"
      ]
     },
     "metadata": {
      "needs_background": "light"
     },
     "output_type": "display_data"
    }
   ],
   "source": [
    "import seaborn as sns\n",
    "\n",
    "sns.heatmap(data.isnull(), cbar=False, cmap='crest_r')"
   ]
  },
  {
   "cell_type": "markdown",
   "metadata": {},
   "source": [
    "Since our dataset is small and the missing values in each obervation do not overlap, it is not ideal to delete such observations. They might contain valuable information in other features which can be important for our ML models' prediction.   "
   ]
  },
  {
   "cell_type": "markdown",
   "metadata": {},
   "source": [
    "##### Replacing the missing values"
   ]
  },
  {
   "cell_type": "code",
   "execution_count": 10,
   "metadata": {},
   "outputs": [],
   "source": [
    "for col in data.iloc[:,10:12]:\n",
    "    data[col]=pd.to_numeric(data[col])\n",
    "    data[col].fillna(data[col].mean(), inplace=True)"
   ]
  },
  {
   "cell_type": "markdown",
   "metadata": {},
   "source": [
    "##### Check Target Balances"
   ]
  },
  {
   "cell_type": "code",
   "execution_count": 11,
   "metadata": {},
   "outputs": [
    {
     "name": "stdout",
     "output_type": "stream",
     "text": [
      "[0 1]\n"
     ]
    },
    {
     "data": {
      "text/plain": [
       "Counter({0: 164, 1: 139})"
      ]
     },
     "execution_count": 11,
     "metadata": {},
     "output_type": "execute_result"
    }
   ],
   "source": [
    "from collections import Counter\n",
    "\n",
    "print(data['HeartDisease'].unique())\n",
    "Counter(data['HeartDisease'])"
   ]
  },
  {
   "cell_type": "markdown",
   "metadata": {},
   "source": [
    "With the number of observations of target label 0 not significatly different to that of target label 1 (ratio about 1 to 1.18), we will not have to worry about imbalanced data issues for this dataset."
   ]
  },
  {
   "cell_type": "markdown",
   "metadata": {},
   "source": [
    "##### Correlation Heatmap"
   ]
  },
  {
   "cell_type": "code",
   "execution_count": 12,
   "metadata": {},
   "outputs": [
    {
     "data": {
      "text/plain": [
       "<AxesSubplot:>"
      ]
     },
     "execution_count": 12,
     "metadata": {},
     "output_type": "execute_result"
    },
    {
     "data": {
      "image/png": "[encoded data removed]",
      "text/plain": [
       "<Figure size 720x720 with 2 Axes>"
      ]
     },
     "metadata": {
      "needs_background": "light"
     },
     "output_type": "display_data"
    }
   ],
   "source": [
    "import matplotlib.pyplot as plt\n",
    "\n",
    "plt.figure(figsize=(10,10))\n",
    "sns.heatmap(data.corr(),cbar=True,annot=True,cmap='Blues')"
   ]
  },
  {
   "cell_type": "markdown",
   "metadata": {},
   "source": [
    "From the correlation heatmap above, we can see that most of the variables selected by researchers have very weak correlations with heart disease. For the purpose of this paper, we do not need to do feature selection but rather keep all the features for our models to learn. However, outliers should be treated since they can have a negative impact on our models' predictions."
   ]
  },
  {
   "cell_type": "markdown",
   "metadata": {},
   "source": [
    "##### Checking For Numerical Outliers "
   ]
  },
  {
   "cell_type": "code",
   "execution_count": 13,
   "metadata": {},
   "outputs": [],
   "source": [
    "numerical_columns = list(data.loc[:,['Age', 'RestingBP', 'MaxHR', 'Oldpeak']])"
   ]
  },
  {
   "cell_type": "code",
   "execution_count": 14,
   "metadata": {},
   "outputs": [
    {
     "data": {
      "image/png": "[encoded data removed]",
      "text/plain": [
       "<Figure size 936x360 with 4 Axes>"
      ]
     },
     "metadata": {
      "needs_background": "light"
     },
     "output_type": "display_data"
    }
   ],
   "source": [
    "def boxplots_disp(dataset, data_col_list, rows, cols):\n",
    "    fig, axs = plt.subplots(rows, cols, sharey=True, figsize=(13,5))\n",
    "    axs = axs.flatten()\n",
    "    for i, data in enumerate(data_col_list):\n",
    "        sns.boxplot(data=dataset[data], orient='h', ax=axs[i])\n",
    "        axs[i].set_title(data + ', skewness is: '+str(round(dataset[data].skew(axis = 0, skipna = True),2)))\n",
    "        \n",
    "boxplots_disp(data, numerical_columns, 2, 2)\n",
    "plt.tight_layout()"
   ]
  },
  {
   "cell_type": "code",
   "execution_count": 15,
   "metadata": {},
   "outputs": [
    {
     "data": {
      "text/plain": [
       "<AxesSubplot:xlabel='Oldpeak', ylabel='Count'>"
      ]
     },
     "execution_count": 15,
     "metadata": {},
     "output_type": "execute_result"
    },
    {
     "data": {
      "image/png": "[encoded data removed]",
      "text/plain": [
       "<Figure size 1152x360 with 3 Axes>"
      ]
     },
     "metadata": {
      "needs_background": "light"
     },
     "output_type": "display_data"
    }
   ],
   "source": [
    "plt.figure(figsize=(16,5))\n",
    "plt.subplot(1,3,1)\n",
    "sns.histplot(data[numerical_columns[1]], kde=True)\n",
    "\n",
    "plt.subplot(1,3,2)\n",
    "sns.histplot(data[numerical_columns[2]], kde=True)\n",
    "\n",
    "plt.subplot(1,3,3)\n",
    "sns.histplot(data[numerical_columns[3]], kde=True)                "
   ]
  },
  {
   "cell_type": "code",
   "execution_count": 16,
   "metadata": {},
   "outputs": [
    {
     "data": {
      "text/html": [
       "<div>\n",
       "<style scoped>\n",
       "    .dataframe tbody tr th:only-of-type {\n",
       "        vertical-align: middle;\n",
       "    }\n",
       "\n",
       "    .dataframe tbody tr th {\n",
       "        vertical-align: top;\n",
       "    }\n",
       "\n",
       "    .dataframe thead th {\n",
       "        text-align: right;\n",
       "    }\n",
       "</style>\n",
       "<table border=\"1\" class=\"dataframe\">\n",
       "  <thead>\n",
       "    <tr style=\"text-align: right;\">\n",
       "      <th></th>\n",
       "      <th>RestingBP</th>\n",
       "      <th>MaxHR</th>\n",
       "      <th>Oldpeak</th>\n",
       "    </tr>\n",
       "  </thead>\n",
       "  <tbody>\n",
       "    <tr>\n",
       "      <th>count</th>\n",
       "      <td>303.000000</td>\n",
       "      <td>303.000000</td>\n",
       "      <td>303.000000</td>\n",
       "    </tr>\n",
       "    <tr>\n",
       "      <th>mean</th>\n",
       "      <td>131.689769</td>\n",
       "      <td>149.607261</td>\n",
       "      <td>1.039604</td>\n",
       "    </tr>\n",
       "    <tr>\n",
       "      <th>std</th>\n",
       "      <td>17.599748</td>\n",
       "      <td>22.875003</td>\n",
       "      <td>1.161075</td>\n",
       "    </tr>\n",
       "    <tr>\n",
       "      <th>min</th>\n",
       "      <td>94.000000</td>\n",
       "      <td>71.000000</td>\n",
       "      <td>0.000000</td>\n",
       "    </tr>\n",
       "    <tr>\n",
       "      <th>25%</th>\n",
       "      <td>120.000000</td>\n",
       "      <td>133.500000</td>\n",
       "      <td>0.000000</td>\n",
       "    </tr>\n",
       "    <tr>\n",
       "      <th>50%</th>\n",
       "      <td>130.000000</td>\n",
       "      <td>153.000000</td>\n",
       "      <td>0.800000</td>\n",
       "    </tr>\n",
       "    <tr>\n",
       "      <th>75%</th>\n",
       "      <td>140.000000</td>\n",
       "      <td>166.000000</td>\n",
       "      <td>1.600000</td>\n",
       "    </tr>\n",
       "    <tr>\n",
       "      <th>max</th>\n",
       "      <td>200.000000</td>\n",
       "      <td>202.000000</td>\n",
       "      <td>6.200000</td>\n",
       "    </tr>\n",
       "  </tbody>\n",
       "</table>\n",
       "</div>"
      ],
      "text/plain": [
       "        RestingBP       MaxHR     Oldpeak\n",
       "count  303.000000  303.000000  303.000000\n",
       "mean   131.689769  149.607261    1.039604\n",
       "std     17.599748   22.875003    1.161075\n",
       "min     94.000000   71.000000    0.000000\n",
       "25%    120.000000  133.500000    0.000000\n",
       "50%    130.000000  153.000000    0.800000\n",
       "75%    140.000000  166.000000    1.600000\n",
       "max    200.000000  202.000000    6.200000"
      ]
     },
     "execution_count": 16,
     "metadata": {},
     "output_type": "execute_result"
    }
   ],
   "source": [
    "data[numerical_columns[1:4]].describe()"
   ]
  },
  {
   "cell_type": "markdown",
   "metadata": {},
   "source": [
    "RestingBP, MaxHR, and Oldpeak seem to have outliers. Given our small dataset, we should use capping method to deal with these observations. "
   ]
  },
  {
   "cell_type": "markdown",
   "metadata": {},
   "source": [
    "##### Compute IQR, Lower Limit and Upper Limit"
   ]
  },
  {
   "cell_type": "code",
   "execution_count": 17,
   "metadata": {},
   "outputs": [
    {
     "name": "stdout",
     "output_type": "stream",
     "text": [
      "RestingBP:\n",
      "     Lower Limit 90.00, Upper Limit 20.00, IQR 170.00\n",
      "MaxHR:\n",
      "     Lower Limit 84.75, Upper Limit 32.50, IQR 214.75\n",
      "Oldpeak:\n",
      "     Lower Limit -2.40, Upper Limit 1.60, IQR 4.00\n"
     ]
    }
   ],
   "source": [
    "percentile = np.empty((2, 3))\n",
    "for i in range(3):\n",
    "    percentile[0,i]= data[numerical_columns[i+1]].quantile(0.25)\n",
    "    percentile[1,i] = data[numerical_columns[i+1]].quantile(0.75)\n",
    "iqr = percentile[1,:] - percentile[0,:]\n",
    "for i in range(3):\n",
    "    print (numerical_columns[i+1] + \":\\n     Lower Limit %.2f, Upper Limit %.2f, IQR %.2f\" \n",
    "           % (percentile[0,i]-1.5*iqr[i],iqr[i],percentile[1,i]+1.5*iqr[i]))"
   ]
  },
  {
   "cell_type": "markdown",
   "metadata": {},
   "source": [
    "##### Capping Outliers"
   ]
  },
  {
   "cell_type": "code",
   "execution_count": 18,
   "metadata": {},
   "outputs": [
    {
     "data": {
      "image/png": "[encoded data removed]",
      "text/plain": [
       "<Figure size 720x576 with 6 Axes>"
      ]
     },
     "metadata": {
      "needs_background": "light"
     },
     "output_type": "display_data"
    }
   ],
   "source": [
    "new_data_cap = data.copy()\n",
    "plt.figure(figsize=(10,8))\n",
    "for i in range(3):\n",
    "    lower_limit_RestingBP = percentile[0,i]-1.5*iqr[i]\n",
    "    upper_limit_RestingBP = percentile[1,i]+1.5*iqr[i]\n",
    "    new_data_cap[numerical_columns[i+1]] = np.where(new_data_cap[numerical_columns[i+1]] > upper_limit_RestingBP, \n",
    "                                              upper_limit_RestingBP,\n",
    "                                              np.where(new_data_cap[numerical_columns[i+1]] < lower_limit_RestingBP,\n",
    "                                                       lower_limit_RestingBP,\n",
    "                                                       new_data_cap[numerical_columns[i+1]]\n",
    "                                                      )\n",
    "                                             )\n",
    "    plt.subplot(3,2,2*i+1)\n",
    "    sns.histplot(new_data_cap[numerical_columns[i+1]], kde=True)\n",
    "    plt.subplot(3,2,2*i+2)\n",
    "    sns.boxplot(data = new_data_cap[numerical_columns[i+1]])"
   ]
  },
  {
   "cell_type": "markdown",
   "metadata": {},
   "source": [
    "##### Check variance\n",
    "Features that have very little difference or diversity in the data do not contribute any useful information for an ML model to learn patterns. If a feature has the same value (e.g., 2) for every observations in a dataset, it is considered a constant feature and does not provide any significant value. It is important to remove such features from the dataset."
   ]
  },
  {
   "cell_type": "code",
   "execution_count": 19,
   "metadata": {},
   "outputs": [],
   "source": [
    "assert new_data_cap.var().any() > 0.0"
   ]
  },
  {
   "cell_type": "markdown",
   "metadata": {},
   "source": [
    "### Model Selection<a id='section_7_2'></a>"
   ]
  },
  {
   "cell_type": "markdown",
   "metadata": {},
   "source": [
    "#### Model Preparation"
   ]
  },
  {
   "cell_type": "code",
   "execution_count": 20,
   "metadata": {},
   "outputs": [],
   "source": [
    "from sklearn.preprocessing import StandardScaler\n",
    "from sklearn.model_selection import train_test_split\n",
    "\n",
    "y = new_data_cap[\"HeartDisease\"]\n",
    "X = new_data_cap.drop('HeartDisease',axis=1)"
   ]
  },
  {
   "cell_type": "code",
   "execution_count": 21,
   "metadata": {},
   "outputs": [],
   "source": [
    "X_train, X_test, y_train, y_test = train_test_split(X, y, test_size=0.20, random_state = 0)\n",
    "scaler = StandardScaler()\n",
    "X_train = scaler.fit_transform(X_train)\n",
    "X_test = scaler.transform(X_test)"
   ]
  },
  {
   "cell_type": "markdown",
   "metadata": {},
   "source": [
    "##### Check Target Balances In The Training Set"
   ]
  },
  {
   "cell_type": "code",
   "execution_count": 22,
   "metadata": {},
   "outputs": [
    {
     "data": {
      "text/plain": [
       "Counter({1: 113, 0: 129})"
      ]
     },
     "execution_count": 22,
     "metadata": {},
     "output_type": "execute_result"
    }
   ],
   "source": [
    "Counter(y_train)"
   ]
  },
  {
   "cell_type": "code",
   "execution_count": 23,
   "metadata": {},
   "outputs": [],
   "source": [
    "#!pip install xgboost\n",
    "from sklearn.metrics import confusion_matrix, ConfusionMatrixDisplay, recall_score, precision_score, accuracy_score\n",
    "from sklearn.ensemble import RandomForestClassifier, VotingClassifier, AdaBoostClassifier\n",
    "from sklearn.linear_model import LogisticRegression\n",
    "from sklearn.svm import SVC\n",
    "from sklearn.neighbors import KNeighborsClassifier\n",
    "from xgboost import XGBClassifier"
   ]
  },
  {
   "cell_type": "markdown",
   "metadata": {},
   "source": [
    "### Base Model With Voting Classifier<a id='section_7_3'></a>"
   ]
  },
  {
   "cell_type": "code",
   "execution_count": 24,
   "metadata": {},
   "outputs": [],
   "source": [
    "estimator = [('LogisticRegression', LogisticRegression()), ('RandomForest', RandomForestClassifier()), \n",
    "             ('SVC', SVC(probability = True)), ('KNN', KNeighborsClassifier()),\n",
    "             ('AdaBoostClassifier', AdaBoostClassifier()), ('XGB', XGBClassifier())]"
   ]
  },
  {
   "cell_type": "code",
   "execution_count": 25,
   "metadata": {},
   "outputs": [
    {
     "data": {
      "text/plain": [
       "<sklearn.metrics._plot.confusion_matrix.ConfusionMatrixDisplay at 0x7f4969cb9f40>"
      ]
     },
     "execution_count": 25,
     "metadata": {},
     "output_type": "execute_result"
    },
    {
     "data": {
      "image/png": "[encoded data removed]",
      "text/plain": [
       "<Figure size 432x288 with 2 Axes>"
      ]
     },
     "metadata": {
      "needs_background": "light"
     },
     "output_type": "display_data"
    }
   ],
   "source": [
    "VC_base = VotingClassifier(estimators = estimator, voting = 'soft')\n",
    "VC_base.fit(X_train, y_train)\n",
    "y_pred = VC_base.predict(X_test)\n",
    "\n",
    "VC_base_Recall = recall_score(y_test, y_pred)\n",
    "VC_base_Precision = precision_score(y_test, y_pred)\n",
    "VC_base_accuracy = accuracy_score(y_test, y_pred)\n",
    "\n",
    "disp = ConfusionMatrixDisplay(confusion_matrix(y_test, y_pred))\n",
    "disp.plot()"
   ]
  },
  {
   "cell_type": "code",
   "execution_count": 26,
   "metadata": {},
   "outputs": [
    {
     "name": "stdout",
     "output_type": "stream",
     "text": [
      "Accuracy:  0.79\n",
      "Precision: 0.84\n",
      "Recall:    0.62\n"
     ]
    }
   ],
   "source": [
    "print(f'Accuracy:  {VC_base_accuracy:.2f}')\n",
    "print(f'Precision: {VC_base_Precision:.2f}')\n",
    "print(f'Recall:    {VC_base_Recall:.2f}')"
   ]
  },
  {
   "cell_type": "markdown",
   "metadata": {},
   "source": [
    "##### K-Fold Cross-validation"
   ]
  },
  {
   "cell_type": "code",
   "execution_count": 27,
   "metadata": {},
   "outputs": [
    {
     "name": "stdout",
     "output_type": "stream",
     "text": [
      "Average Cross Validation Accuracy score: 0.8393333333333333\n",
      "Average Cross Validation Precision score: 0.8570240870240872\n",
      "Average Cross Validation Recall score: 0.8053030303030303\n"
     ]
    }
   ],
   "source": [
    "from sklearn.model_selection import cross_validate\n",
    "from statistics import stdev\n",
    "base_scores = cross_validate(VC_base, X_train, y_train, cv=10, scoring=('accuracy', 'precision', 'recall'))\n",
    "\n",
    "base_avg_accuracy        = base_scores['test_accuracy'].mean()\n",
    "base_avg_precision       = base_scores['test_precision'].mean()\n",
    "base_avg_recall          = base_scores['test_recall'].mean()\n",
    "base_avg_accuracy_std    = stdev(base_scores['test_accuracy'])\n",
    "\n",
    "print('Average Cross Validation Accuracy score: {}'.format(base_avg_accuracy))\n",
    "print('Average Cross Validation Precision score: {}'.format(base_avg_precision))\n",
    "print('Average Cross Validation Recall score: {}'.format(base_avg_recall))"
   ]
  },
  {
   "cell_type": "code",
   "execution_count": 28,
   "metadata": {},
   "outputs": [
    {
     "data": {
      "text/html": [
       "<div>\n",
       "<style scoped>\n",
       "    .dataframe tbody tr th:only-of-type {\n",
       "        vertical-align: middle;\n",
       "    }\n",
       "\n",
       "    .dataframe tbody tr th {\n",
       "        vertical-align: top;\n",
       "    }\n",
       "\n",
       "    .dataframe thead th {\n",
       "        text-align: right;\n",
       "    }\n",
       "</style>\n",
       "<table border=\"1\" class=\"dataframe\">\n",
       "  <thead>\n",
       "    <tr style=\"text-align: right;\">\n",
       "      <th></th>\n",
       "      <th>Model</th>\n",
       "      <th>Accuracy</th>\n",
       "      <th>Precision</th>\n",
       "      <th>Recall</th>\n",
       "      <th>Avg CV Accuracy</th>\n",
       "      <th>Avg CV Precision</th>\n",
       "      <th>Avg CV Recall</th>\n",
       "      <th>Standard Deviation of CV Accuracy</th>\n",
       "    </tr>\n",
       "  </thead>\n",
       "  <tbody>\n",
       "    <tr>\n",
       "      <th>0</th>\n",
       "      <td>Base</td>\n",
       "      <td>0.786885</td>\n",
       "      <td>0.842105</td>\n",
       "      <td>0.615385</td>\n",
       "      <td>0.839333</td>\n",
       "      <td>0.857024</td>\n",
       "      <td>0.805303</td>\n",
       "      <td>0.060884</td>\n",
       "    </tr>\n",
       "  </tbody>\n",
       "</table>\n",
       "</div>"
      ],
      "text/plain": [
       "  Model  Accuracy  Precision    Recall  Avg CV Accuracy  Avg CV Precision  \\\n",
       "0  Base  0.786885   0.842105  0.615385         0.839333          0.857024   \n",
       "\n",
       "   Avg CV Recall  Standard Deviation of CV Accuracy  \n",
       "0       0.805303                           0.060884  "
      ]
     },
     "execution_count": 28,
     "metadata": {},
     "output_type": "execute_result"
    }
   ],
   "source": [
    "results1 = [(VC_base_accuracy, VC_base_Precision, VC_base_Recall, base_avg_accuracy, \n",
    "            base_avg_precision, base_avg_recall, base_avg_accuracy_std )]\n",
    "\n",
    "VC_base_df = pd.DataFrame(data = results1, columns=\n",
    "                        ['Accuracy','Precision','Recall','Avg CV Accuracy',\n",
    "                         'Avg CV Precision', 'Avg CV Recall', 'Standard Deviation of CV Accuracy'])\n",
    "VC_base_df.insert(0, 'Model', 'Base')\n",
    "\n",
    "VC_base_df"
   ]
  },
  {
   "cell_type": "markdown",
   "metadata": {},
   "source": [
    "### Hyperparameter Optimization With Random Search For Each Individual Classifier<a id='section_7_4'></a>  "
   ]
  },
  {
   "cell_type": "markdown",
   "metadata": {},
   "source": [
    "##### Random Search For Logistic Regression Classifier"
   ]
  },
  {
   "cell_type": "code",
   "execution_count": 29,
   "metadata": {},
   "outputs": [
    {
     "name": "stdout",
     "output_type": "stream",
     "text": [
      "Best Score: 0.8553571428571429\n",
      "Best Hyperparameters: {'C': 0.04304506877428992, 'penalty': 'l2', 'solver': 'lbfgs'}\n"
     ]
    }
   ],
   "source": [
    "from scipy.stats import loguniform, randint, uniform\n",
    "from sklearn.model_selection import RepeatedKFold \n",
    "from sklearn.model_selection import RandomizedSearchCV\n",
    "\n",
    "cv = RepeatedKFold(n_splits=5, n_repeats=3, random_state=0)\n",
    "\n",
    "model_lr = LogisticRegression()\n",
    "lr_space = dict()\n",
    "lr_space['solver']  = ['newton-cg', 'lbfgs', 'liblinear']\n",
    "lr_space['penalty'] = ['none','l1', 'l2', 'elasticnet']\n",
    "lr_space['C']       = loguniform(1e-5, 100)\n",
    "search_lr = RandomizedSearchCV(model_lr, lr_space, n_iter=1000, scoring='accuracy', cv=cv, random_state=0)\n",
    "result_lr = search_lr.fit(X_train, y_train)\n",
    "print('Best Score: %s' % result_lr.best_score_)\n",
    "print('Best Hyperparameters: %s' % result_lr.best_params_)"
   ]
  },
  {
   "cell_type": "markdown",
   "metadata": {},
   "source": [
    "##### Random Search For Support Vector Classifier"
   ]
  },
  {
   "cell_type": "code",
   "execution_count": 30,
   "metadata": {},
   "outputs": [
    {
     "name": "stdout",
     "output_type": "stream",
     "text": [
      "Best Score: 0.8526643990929705\n",
      "Best Hyperparameters: {'C': 85.58006889625479, 'gamma': 0.00032982144554896285, 'kernel': 'rbf'}\n"
     ]
    }
   ],
   "source": [
    "model_svc = SVC(probability=True)\n",
    "svc_space = dict()\n",
    "svc_space['C']      = loguniform(1e-5, 100)\n",
    "svc_space['kernel'] = ['linear', 'rbf']\n",
    "svc_space['gamma']  = loguniform(1e-5, 100)\n",
    "\n",
    "search_svc = RandomizedSearchCV(model_svc, svc_space, n_iter=100, scoring='accuracy', cv=cv, random_state=0)\n",
    "result_svc = search_svc.fit(X_train, y_train)\n",
    "print('Best Score: %s' % result_svc.best_score_)\n",
    "print('Best Hyperparameters: %s' % result_svc.best_params_)"
   ]
  },
  {
   "cell_type": "markdown",
   "metadata": {},
   "source": [
    "##### Random Search For Random Forest Classifier"
   ]
  },
  {
   "cell_type": "code",
   "execution_count": 31,
   "metadata": {},
   "outputs": [
    {
     "name": "stdout",
     "output_type": "stream",
     "text": [
      "Best Score: 0.8385204081632655\n",
      "Best Hyperparameters: {'bootstrap': True, 'criterion': 'gini', 'max_depth': 6, 'max_features': 'auto', 'min_samples_leaf': 2, 'min_samples_split': 10, 'n_estimators': 32}\n"
     ]
    }
   ],
   "source": [
    "model_rfc = RandomForestClassifier()\n",
    "rfc_space = dict()\n",
    "rfc_space['n_estimators']      = randint(15,50)\n",
    "rfc_space['criterion']         = ['gini', 'entropy', 'log_loss']\n",
    "rfc_space['max_depth']         = randint(2,20)\n",
    "rfc_space['max_features']      = ['sqrt', 'auto'] \n",
    "rfc_space['min_samples_split'] = [2, 5, 10]\n",
    "rfc_space['min_samples_leaf']  = [1, 2, 4]\n",
    "rfc_space['bootstrap']         = [True, False]\n",
    "search_rfc = RandomizedSearchCV(model_rfc, rfc_space, n_iter=100, scoring='accuracy', cv=cv, random_state=0)\n",
    "result_rfc = search_rfc.fit(X_train, y_train)\n",
    "print('Best Score: %s' % result_rfc.best_score_)\n",
    "print('Best Hyperparameters: %s' % result_rfc.best_params_)"
   ]
  },
  {
   "cell_type": "markdown",
   "metadata": {},
   "source": [
    "##### Random Search For K-Nearest Neighborhood"
   ]
  },
  {
   "cell_type": "code",
   "execution_count": 32,
   "metadata": {},
   "outputs": [
    {
     "name": "stdout",
     "output_type": "stream",
     "text": [
      "Best Score: 0.8566043083900227\n",
      "Best Hyperparameters: {'algorithm': 'brute', 'leaf_size': 708, 'n_neighbors': 7, 'p': 2, 'weights': 'distance'}\n"
     ]
    }
   ],
   "source": [
    "model_knn = KNeighborsClassifier()\n",
    "knn_space = dict()\n",
    "knn_space['n_neighbors'] = randint(1,33)\n",
    "knn_space['weights']     = [\"uniform\", \"distance\"]\n",
    "knn_space['algorithm']   = [\"ball_tree\", \"kd_tree\", \"brute\"]\n",
    "knn_space['leaf_size']   = randint(1,1000) \n",
    "knn_space['p']           = [1,2]\n",
    "search_knn = RandomizedSearchCV(model_knn, knn_space, n_iter=1000, scoring='accuracy', cv=cv, random_state=0)\n",
    "result_knn = search_knn.fit(X_train, y_train)\n",
    "print('Best Score: %s' % result_knn.best_score_)\n",
    "print('Best Hyperparameters: %s' % result_knn.best_params_)"
   ]
  },
  {
   "cell_type": "markdown",
   "metadata": {},
   "source": [
    "##### Random Search For Adaboost"
   ]
  },
  {
   "cell_type": "code",
   "execution_count": 33,
   "metadata": {},
   "outputs": [
    {
     "name": "stdout",
     "output_type": "stream",
     "text": [
      "Best Score: 0.8278628117913832\n",
      "Best Hyperparameters: {'algorithm': 'SAMME', 'learning_rate': 0.01837280264462446, 'n_estimators': 85}\n"
     ]
    }
   ],
   "source": [
    "model_adb = AdaBoostClassifier()\n",
    "adb_space = dict()\n",
    "adb_space['n_estimators']  = randint(50,100)\n",
    "adb_space['learning_rate'] = loguniform(1e-5, 100)\n",
    "adb_space['algorithm']     = [\"SAMME\", \"SAMME.R\"]\n",
    "search_adb = RandomizedSearchCV(model_adb, adb_space, n_iter=100, scoring='accuracy', cv=cv, random_state=0)\n",
    "result_adb = search_adb.fit(X_train, y_train)\n",
    "print('Best Score: %s' % result_adb.best_score_)\n",
    "print('Best Hyperparameters: %s' % result_adb.best_params_)"
   ]
  },
  {
   "cell_type": "markdown",
   "metadata": {},
   "source": [
    "##### Random Search For XGboost"
   ]
  },
  {
   "cell_type": "code",
   "execution_count": 34,
   "metadata": {},
   "outputs": [
    {
     "name": "stdout",
     "output_type": "stream",
     "text": [
      "Best Score: 0.8441043083900228\n",
      "Best Hyperparameters: {'booster': 'dart', 'colsample_bylevel': 0.6593128062345712, 'colsample_bynode': 0.41973989374694654, 'colsample_bytree': 0.5778571106012702, 'learning_rate': 0.01079733471688793, 'max_depth': 9, 'min_child_weight': 2, 'n_estimators': 28, 'reg_lambda': 2, 'subsample': 0.9316440082217889}\n"
     ]
    }
   ],
   "source": [
    "model_xgb = XGBClassifier(objective = 'binary:logistic')\n",
    "xgb_space = dict()\n",
    "xgb_space['n_estimators']     = randint(20, 30)\n",
    "xgb_space['learning_rate']    = uniform(0.005, 0.015)\n",
    "xgb_space['subsample']        = uniform(0.3, 0.7)\n",
    "xgb_space['max_depth']        = randint(5, 20)\n",
    "xgb_space['colsample_bytree'] = uniform(0.4, 0.8)\n",
    "xgb_space['colsample_bylevel']= uniform(0.4, 0.8)\n",
    "xgb_space['colsample_bynode'] = uniform(0.3, 0.8)\n",
    "xgb_space['min_child_weight'] = randint(1, 5)\n",
    "xgb_space['booster']          = [\"dart\"]\n",
    "xgb_space['reg_lambda']       = [2]\n",
    "search_xgb = RandomizedSearchCV(model_xgb, xgb_space, n_iter=100, scoring='accuracy', cv=cv, random_state=0)\n",
    "result_xgb = search_xgb.fit(X_train, y_train)\n",
    "print('Best Score: %s' % result_xgb.best_score_)\n",
    "print('Best Hyperparameters: %s' % result_xgb.best_params_)"
   ]
  },
  {
   "cell_type": "code",
   "execution_count": 35,
   "metadata": {},
   "outputs": [],
   "source": [
    "model_lr  = model_lr.set_params(**search_lr.best_params_)\n",
    "model_rfc = model_rfc.set_params(**search_rfc.best_params_)\n",
    "model_svc = model_svc.set_params(**search_svc.best_params_)\n",
    "model_knn = model_knn.set_params(**search_knn.best_params_)\n",
    "model_adb = model_adb.set_params(**search_adb.best_params_)\n",
    "model_xgb = model_xgb.set_params(**search_xgb.best_params_)"
   ]
  },
  {
   "cell_type": "markdown",
   "metadata": {},
   "source": [
    "#####  Adaptive Boosting Feature Importance"
   ]
  },
  {
   "cell_type": "code",
   "execution_count": 36,
   "metadata": {},
   "outputs": [
    {
     "data": {
      "image/png": "[encoded data removed]",
      "text/plain": [
       "<Figure size 720x288 with 1 Axes>"
      ]
     },
     "metadata": {
      "needs_background": "light"
     },
     "output_type": "display_data"
    }
   ],
   "source": [
    "model_adb.fit(X_train,y_train)\n",
    "f_imp = pd.DataFrame({'Feature': [\"Age\", \"Sex\", \"ChestPainType\", \"RestingBP\", \"FastingBS\", \"RestingECG\",\n",
    "                               \"MaxHR\", \"ExerciseAngina\", \"Oldpeak\", \"ST_Slope\", \"N_MajorVessels\", \"Thal\"], \n",
    "                            'Importance': model_adb.feature_importances_})\n",
    "plt.figure(figsize=(10,4))\n",
    "plt.title(\"Barplot Represent feature importance \")\n",
    "plt.xlabel(\"Importance \")\n",
    "plt.ylabel(\"Features\")\n",
    "plt.barh(f_imp['Feature'],f_imp['Importance'])\n",
    "plt.show()"
   ]
  },
  {
   "cell_type": "markdown",
   "metadata": {},
   "source": [
    "##### Random Forest Classifier Feature Importance"
   ]
  },
  {
   "cell_type": "code",
   "execution_count": 37,
   "metadata": {},
   "outputs": [
    {
     "data": {
      "image/png": "[encoded data removed]",
      "text/plain": [
       "<Figure size 720x288 with 1 Axes>"
      ]
     },
     "metadata": {
      "needs_background": "light"
     },
     "output_type": "display_data"
    }
   ],
   "source": [
    "model_rfc.fit(X_train,y_train)\n",
    "f_imp = pd.DataFrame({'Feature': [\"Age\", \"Sex\", \"ChestPainType\", \"RestingBP\", \"FastingBS\", \"RestingECG\",\n",
    "                               \"MaxHR\", \"ExerciseAngina\", \"Oldpeak\", \"ST_Slope\", \"N_MajorVessels\", \"Thal\"], \n",
    "                            'Importance': model_rfc.feature_importances_})\n",
    "plt.figure(figsize=(10,4))\n",
    "plt.title(\"Barplot Represent feature importance \")\n",
    "plt.xlabel(\"Importance \")\n",
    "plt.ylabel(\"Features\")\n",
    "plt.barh(f_imp['Feature'],f_imp['Importance'])\n",
    "plt.show()"
   ]
  },
  {
   "cell_type": "markdown",
   "metadata": {},
   "source": [
    "##### Extreme Gradient Boosting Feature Importance"
   ]
  },
  {
   "cell_type": "code",
   "execution_count": 38,
   "metadata": {},
   "outputs": [
    {
     "data": {
      "image/png": "[encoded data removed]",
      "text/plain": [
       "<Figure size 720x288 with 1 Axes>"
      ]
     },
     "metadata": {
      "needs_background": "light"
     },
     "output_type": "display_data"
    }
   ],
   "source": [
    "model_xgb.fit(X_train,y_train)\n",
    "f_imp = pd.DataFrame({'Feature': [\"Age\", \"Sex\", \"ChestPainType\", \"RestingBP\", \"FastingBS\", \"RestingECG\",\n",
    "                               \"MaxHR\", \"ExerciseAngina\", \"Oldpeak\", \"ST_Slope\", \"N_MajorVessels\", \"Thal\"], \n",
    "                            'Importance': model_xgb.feature_importances_})\n",
    "plt.figure(figsize=(10,4))\n",
    "plt.title(\"Barplot Represent feature importance \")\n",
    "plt.xlabel(\"Importance \")\n",
    "plt.ylabel(\"Features\")\n",
    "plt.barh(f_imp['Feature'],f_imp['Importance'])\n",
    "plt.show()"
   ]
  },
  {
   "cell_type": "markdown",
   "metadata": {},
   "source": [
    "### Tuned Model With Voting Classifier<a id='section_7_5'></a>"
   ]
  },
  {
   "cell_type": "code",
   "execution_count": 39,
   "metadata": {},
   "outputs": [
    {
     "data": {
      "text/plain": [
       "<sklearn.metrics._plot.confusion_matrix.ConfusionMatrixDisplay at 0x7f496b938220>"
      ]
     },
     "execution_count": 39,
     "metadata": {},
     "output_type": "execute_result"
    },
    {
     "data": {
      "image/png": "[encoded data removed]",
      "text/plain": [
       "<Figure size 432x288 with 2 Axes>"
      ]
     },
     "metadata": {
      "needs_background": "light"
     },
     "output_type": "display_data"
    }
   ],
   "source": [
    "tuned_estimator = [('LogisticRegression', model_lr), ('RandomForest', model_rfc), \n",
    "             ('SVC', model_svc), ('KNN', model_knn),\n",
    "             ('AdaBoostClassifier', model_adb), ('XGB', model_xgb)]\n",
    "\n",
    "VC_tuned = VotingClassifier(estimators = tuned_estimator, voting = 'soft')\n",
    "VC_tuned.fit(X_train, y_train)\n",
    "y_pred = VC_tuned.predict(X_test)\n",
    "\n",
    "VC_tuned_Recall = recall_score(y_test, y_pred)\n",
    "VC_tuned_Precision = precision_score(y_test, y_pred)\n",
    "VC_tuned_accuracy = accuracy_score(y_test, y_pred)\n",
    "\n",
    "disp = ConfusionMatrixDisplay(confusion_matrix(y_test, y_pred))\n",
    "disp.plot()"
   ]
  },
  {
   "cell_type": "code",
   "execution_count": 40,
   "metadata": {},
   "outputs": [
    {
     "name": "stdout",
     "output_type": "stream",
     "text": [
      "Accuracy:  0.79\n",
      "Precision: 0.84\n",
      "Recall:    0.62\n"
     ]
    }
   ],
   "source": [
    "print(f'Accuracy:  {VC_tuned_accuracy:.2f}')\n",
    "print(f'Precision: {VC_tuned_Precision:.2f}')\n",
    "print(f'Recall:    {VC_tuned_Recall:.2f}')"
   ]
  },
  {
   "cell_type": "markdown",
   "metadata": {},
   "source": [
    "##### K-Fold Cross-validation"
   ]
  },
  {
   "cell_type": "code",
   "execution_count": 41,
   "metadata": {
    "scrolled": false
   },
   "outputs": [
    {
     "name": "stdout",
     "output_type": "stream",
     "text": [
      "Average Cross Validation Accuracy score: 0.8518333333333332\n",
      "Average Cross Validation Precision score: 0.8782828282828282\n",
      "Average Cross Validation Recall score: 0.806060606060606\n"
     ]
    }
   ],
   "source": [
    "tuned_scores = cross_validate(VC_tuned, X_train, y_train, cv=10, scoring=('accuracy', 'precision', 'recall'))\n",
    "\n",
    "tuned_avg_accuracy     = tuned_scores['test_accuracy'].mean()\n",
    "tuned_avg_precision    = tuned_scores['test_precision'].mean()\n",
    "tuned_avg_recall       = tuned_scores['test_recall'].mean()\n",
    "tuned_avg_accuracy_std = stdev(base_scores['test_accuracy'])\n",
    "\n",
    "print('Average Cross Validation Accuracy score: {}'.format(tuned_avg_accuracy))\n",
    "print('Average Cross Validation Precision score: {}'.format(tuned_avg_precision))\n",
    "print('Average Cross Validation Recall score: {}'.format(tuned_avg_recall))"
   ]
  },
  {
   "cell_type": "code",
   "execution_count": 42,
   "metadata": {},
   "outputs": [
    {
     "data": {
      "text/html": [
       "<div>\n",
       "<style scoped>\n",
       "    .dataframe tbody tr th:only-of-type {\n",
       "        vertical-align: middle;\n",
       "    }\n",
       "\n",
       "    .dataframe tbody tr th {\n",
       "        vertical-align: top;\n",
       "    }\n",
       "\n",
       "    .dataframe thead th {\n",
       "        text-align: right;\n",
       "    }\n",
       "</style>\n",
       "<table border=\"1\" class=\"dataframe\">\n",
       "  <thead>\n",
       "    <tr style=\"text-align: right;\">\n",
       "      <th></th>\n",
       "      <th>Model</th>\n",
       "      <th>Accuracy</th>\n",
       "      <th>Precision</th>\n",
       "      <th>Recall</th>\n",
       "      <th>Avg CV Accuracy</th>\n",
       "      <th>Avg CV Precision</th>\n",
       "      <th>Avg CV Recall</th>\n",
       "      <th>Standard Deviation of CV Accuracy</th>\n",
       "    </tr>\n",
       "  </thead>\n",
       "  <tbody>\n",
       "    <tr>\n",
       "      <th>0</th>\n",
       "      <td>Tuned</td>\n",
       "      <td>0.786885</td>\n",
       "      <td>0.842105</td>\n",
       "      <td>0.615385</td>\n",
       "      <td>0.851833</td>\n",
       "      <td>0.878283</td>\n",
       "      <td>0.806061</td>\n",
       "      <td>0.060884</td>\n",
       "    </tr>\n",
       "  </tbody>\n",
       "</table>\n",
       "</div>"
      ],
      "text/plain": [
       "   Model  Accuracy  Precision    Recall  Avg CV Accuracy  Avg CV Precision  \\\n",
       "0  Tuned  0.786885   0.842105  0.615385         0.851833          0.878283   \n",
       "\n",
       "   Avg CV Recall  Standard Deviation of CV Accuracy  \n",
       "0       0.806061                           0.060884  "
      ]
     },
     "execution_count": 42,
     "metadata": {},
     "output_type": "execute_result"
    }
   ],
   "source": [
    "results2 = [(VC_tuned_accuracy, VC_tuned_Precision, VC_tuned_Recall, tuned_avg_accuracy, \n",
    "            tuned_avg_precision, tuned_avg_recall, tuned_avg_accuracy_std )]\n",
    "\n",
    "VC_tuned_df = pd.DataFrame(data = results2, columns=\n",
    "                        ['Accuracy','Precision','Recall','Avg CV Accuracy',\n",
    "                         'Avg CV Precision', 'Avg CV Recall','Standard Deviation of CV Accuracy'])\n",
    "VC_tuned_df.insert(0, 'Model', 'Tuned')\n",
    "\n",
    "VC_tuned_df"
   ]
  },
  {
   "cell_type": "markdown",
   "metadata": {},
   "source": [
    "### Accuracy Report For The Tuned Classifiers<a id='section_7_6'></a>"
   ]
  },
  {
   "cell_type": "code",
   "execution_count": 43,
   "metadata": {},
   "outputs": [
    {
     "data": {
      "text/html": [
       "<div>\n",
       "<style scoped>\n",
       "    .dataframe tbody tr th:only-of-type {\n",
       "        vertical-align: middle;\n",
       "    }\n",
       "\n",
       "    .dataframe tbody tr th {\n",
       "        vertical-align: top;\n",
       "    }\n",
       "\n",
       "    .dataframe thead th {\n",
       "        text-align: right;\n",
       "    }\n",
       "</style>\n",
       "<table border=\"1\" class=\"dataframe\">\n",
       "  <thead>\n",
       "    <tr style=\"text-align: right;\">\n",
       "      <th></th>\n",
       "      <th>Model</th>\n",
       "      <th>Accuracy</th>\n",
       "    </tr>\n",
       "  </thead>\n",
       "  <tbody>\n",
       "    <tr>\n",
       "      <th>0</th>\n",
       "      <td>Logistic Regression</td>\n",
       "      <td>85.535714</td>\n",
       "    </tr>\n",
       "    <tr>\n",
       "      <th>1</th>\n",
       "      <td>Support Vector Classifier</td>\n",
       "      <td>85.266440</td>\n",
       "    </tr>\n",
       "    <tr>\n",
       "      <th>2</th>\n",
       "      <td>Random Forest Classifier</td>\n",
       "      <td>83.852041</td>\n",
       "    </tr>\n",
       "    <tr>\n",
       "      <th>3</th>\n",
       "      <td>K-Nearest Neighbour</td>\n",
       "      <td>85.660431</td>\n",
       "    </tr>\n",
       "    <tr>\n",
       "      <th>4</th>\n",
       "      <td>AdaBoost</td>\n",
       "      <td>82.786281</td>\n",
       "    </tr>\n",
       "    <tr>\n",
       "      <th>5</th>\n",
       "      <td>XGBoost</td>\n",
       "      <td>84.410431</td>\n",
       "    </tr>\n",
       "  </tbody>\n",
       "</table>\n",
       "</div>"
      ],
      "text/plain": [
       "                       Model   Accuracy\n",
       "0        Logistic Regression  85.535714\n",
       "1  Support Vector Classifier  85.266440\n",
       "2   Random Forest Classifier  83.852041\n",
       "3        K-Nearest Neighbour  85.660431\n",
       "4                   AdaBoost  82.786281\n",
       "5                    XGBoost  84.410431"
      ]
     },
     "execution_count": 43,
     "metadata": {},
     "output_type": "execute_result"
    }
   ],
   "source": [
    "evaluation = pd.DataFrame({'Model': ['Logistic Regression','Support Vector Classifier',\n",
    "                                     'Random Forest Classifier','K-Nearest Neighbour',\n",
    "                                     'AdaBoost', 'XGBoost'], \n",
    "                           'Accuracy': [result_lr.best_score_*100,\n",
    "                                        result_svc.best_score_*100,\n",
    "                                        result_rfc.best_score_*100,\n",
    "                                        result_knn.best_score_*100,\n",
    "                                        result_adb.best_score_*100,\n",
    "                                        result_xgb.best_score_*100]})                                                                          \n",
    "evaluation"
   ]
  },
  {
   "cell_type": "markdown",
   "metadata": {},
   "source": [
    "### Base and Tuned Model Classification Report<a id='section_7_7'></a>"
   ]
  },
  {
   "cell_type": "code",
   "execution_count": 44,
   "metadata": {},
   "outputs": [
    {
     "data": {
      "text/html": [
       "<div>\n",
       "<style scoped>\n",
       "    .dataframe tbody tr th:only-of-type {\n",
       "        vertical-align: middle;\n",
       "    }\n",
       "\n",
       "    .dataframe tbody tr th {\n",
       "        vertical-align: top;\n",
       "    }\n",
       "\n",
       "    .dataframe thead th {\n",
       "        text-align: right;\n",
       "    }\n",
       "</style>\n",
       "<table border=\"1\" class=\"dataframe\">\n",
       "  <thead>\n",
       "    <tr style=\"text-align: right;\">\n",
       "      <th></th>\n",
       "      <th>Model</th>\n",
       "      <th>Accuracy</th>\n",
       "      <th>Precision</th>\n",
       "      <th>Recall</th>\n",
       "      <th>Avg CV Accuracy</th>\n",
       "      <th>Avg CV Precision</th>\n",
       "      <th>Avg CV Recall</th>\n",
       "      <th>Standard Deviation of CV Accuracy</th>\n",
       "    </tr>\n",
       "  </thead>\n",
       "  <tbody>\n",
       "    <tr>\n",
       "      <th>0</th>\n",
       "      <td>Base</td>\n",
       "      <td>0.786885</td>\n",
       "      <td>0.842105</td>\n",
       "      <td>0.615385</td>\n",
       "      <td>0.839333</td>\n",
       "      <td>0.857024</td>\n",
       "      <td>0.805303</td>\n",
       "      <td>0.060884</td>\n",
       "    </tr>\n",
       "    <tr>\n",
       "      <th>1</th>\n",
       "      <td>Tuned</td>\n",
       "      <td>0.786885</td>\n",
       "      <td>0.842105</td>\n",
       "      <td>0.615385</td>\n",
       "      <td>0.851833</td>\n",
       "      <td>0.878283</td>\n",
       "      <td>0.806061</td>\n",
       "      <td>0.060884</td>\n",
       "    </tr>\n",
       "  </tbody>\n",
       "</table>\n",
       "</div>"
      ],
      "text/plain": [
       "   Model  Accuracy  Precision    Recall  Avg CV Accuracy  Avg CV Precision  \\\n",
       "0   Base  0.786885   0.842105  0.615385         0.839333          0.857024   \n",
       "1  Tuned  0.786885   0.842105  0.615385         0.851833          0.878283   \n",
       "\n",
       "   Avg CV Recall  Standard Deviation of CV Accuracy  \n",
       "0       0.805303                           0.060884  \n",
       "1       0.806061                           0.060884  "
      ]
     },
     "execution_count": 44,
     "metadata": {},
     "output_type": "execute_result"
    }
   ],
   "source": [
    "models = pd.concat([VC_base_df, VC_tuned_df], ignore_index=True, sort=False)\n",
    "models"
   ]
  },
  {
   "cell_type": "markdown",
   "metadata": {},
   "source": [
    "### Benchmark Models Comparison<a id='section_7_8'></a>"
   ]
  },
  {
   "cell_type": "code",
   "execution_count": 45,
   "metadata": {},
   "outputs": [
    {
     "data": {
      "text/html": [
       "<div>\n",
       "<style scoped>\n",
       "    .dataframe tbody tr th:only-of-type {\n",
       "        vertical-align: middle;\n",
       "    }\n",
       "\n",
       "    .dataframe tbody tr th {\n",
       "        vertical-align: top;\n",
       "    }\n",
       "\n",
       "    .dataframe thead th {\n",
       "        text-align: right;\n",
       "    }\n",
       "</style>\n",
       "<table border=\"1\" class=\"dataframe\">\n",
       "  <thead>\n",
       "    <tr style=\"text-align: right;\">\n",
       "      <th></th>\n",
       "      <th>Model</th>\n",
       "      <th>Accuracy</th>\n",
       "      <th>Precision</th>\n",
       "      <th>Recall</th>\n",
       "    </tr>\n",
       "  </thead>\n",
       "  <tbody>\n",
       "    <tr>\n",
       "      <th>0</th>\n",
       "      <td>Our Tuned Model</td>\n",
       "      <td>0.851833</td>\n",
       "      <td>0.878283</td>\n",
       "      <td>0.806061</td>\n",
       "    </tr>\n",
       "    <tr>\n",
       "      <th>1</th>\n",
       "      <td>Bhat Model</td>\n",
       "      <td>0.918000</td>\n",
       "      <td>0.914000</td>\n",
       "      <td>0.941000</td>\n",
       "    </tr>\n",
       "    <tr>\n",
       "      <th>2</th>\n",
       "      <td>Rutecki Hard Voting Model</td>\n",
       "      <td>0.897000</td>\n",
       "      <td>0.896000</td>\n",
       "      <td>0.920000</td>\n",
       "    </tr>\n",
       "    <tr>\n",
       "      <th>3</th>\n",
       "      <td>Rutecki Soft Voting Model</td>\n",
       "      <td>0.908000</td>\n",
       "      <td>0.914000</td>\n",
       "      <td>0.920000</td>\n",
       "    </tr>\n",
       "  </tbody>\n",
       "</table>\n",
       "</div>"
      ],
      "text/plain": [
       "                       Model  Accuracy  Precision    Recall\n",
       "0            Our Tuned Model  0.851833   0.878283  0.806061\n",
       "1                 Bhat Model  0.918000   0.914000  0.941000\n",
       "2  Rutecki Hard Voting Model  0.897000   0.896000  0.920000\n",
       "3  Rutecki Soft Voting Model  0.908000   0.914000  0.920000"
      ]
     },
     "execution_count": 45,
     "metadata": {},
     "output_type": "execute_result"
    }
   ],
   "source": [
    "models_comp = pd.DataFrame({'Model': ['Our Tuned Model','Bhat Model', \n",
    "                                      'Rutecki Hard Voting Model','Rutecki Soft Voting Model'], \n",
    "                           'Accuracy': [tuned_avg_accuracy,0.918,0.897,.908],\n",
    "                           'Precision': [tuned_avg_precision,0.914,0.896,0.914],\n",
    "                           'Recall': [tuned_avg_recall,0.941,0.920,0.920]\n",
    "                           })\n",
    "models_comp"
   ]
  },
  {
   "cell_type": "markdown",
   "metadata": {},
   "source": [
    "### Hypothesis Testing<a id='section_7_9'></a>"
   ]
  },
  {
   "cell_type": "code",
   "execution_count": 46,
   "metadata": {},
   "outputs": [
    {
     "name": "stdout",
     "output_type": "stream",
     "text": [
      "P-Value Accuracy   : 0.021492789210773248\n",
      "P-Value Precision  : 0.3146949383350427\n",
      "P-Value Recall     : 0.0010030975321196711\n"
     ]
    }
   ],
   "source": [
    "from scipy import stats\n",
    "\n",
    "popmean_accuracy  = .907\n",
    "popmean_precision = .908 \n",
    "popmean_recall    = .927\n",
    "popmean = [popmean_accuracy,popmean_precision,popmean_recall]\n",
    "sample  = [tuned_scores['test_accuracy'],tuned_scores['test_precision'],tuned_scores['test_recall']]\n",
    "\n",
    "print(\"P-Value Accuracy   : {}\".format(stats.ttest_1samp(sample[0], popmean[0]).pvalue))\n",
    "print(\"P-Value Precision  : {}\".format(stats.ttest_1samp(sample[1], popmean[1]).pvalue))\n",
    "print(\"P-Value Recall     : {}\".format(stats.ttest_1samp(sample[2], popmean[2]).pvalue))"
   ]
  },
  {
   "cell_type": "markdown",
   "metadata": {},
   "source": [
    "Our model produces lower scores against the benchmark models on all three metrics. \n",
    "\n",
    "With significance level of 0.05, we reject the null hypothesises that our model yields similar accuracy and recall scores, while keeping the null hypothesis that our model yields similar precision score."
   ]
  },
  {
   "cell_type": "markdown",
   "metadata": {},
   "source": [
    "## Discussion<a id='section8'></a>\n",
    "\n",
    "### Interpreting the result<a id='section_8_1'></a>\n",
    "      \n",
    "The results of our study have shown that contrary to our initial expectations, the model we developed performs worse than the benchmark models. We hypothesized that by removing the cholesterol variable from the model, performance scores of our model should be similar to that of the benchmark models. Our findings indicate that the exclusion of the cholesterol variable negatively impacts the accuracy and recall scores. This suggests that the model's ability to correctly identify and classify all positive cases was compromised without this variable. One possible explanation for this unexpected outcome is that the cholesterol variable plays an important role in predicting presence of heart disease in patients than we initially assumed. Our model may have failed to capture this relationship due to the exclusion of the cholesterol variable. The precision score, however, remained unaffected. This may be due to the fact that precision is only concerned with the true positive cases out of the total positive cases predicted by the model. \n",
    "\n",
    "A possible reason for the poor performance of our model could be attributed to the selection of the variables used in the model and hyperparameter optimization process. For the reasons discussed above, we decided to choose the same variables that all published ML papers have used so that we can compare the performance between models. We may have overlooked some important variables or failed to include other variables that could be highly correlated with predicting presence of heart disease in patients. Moreover, we might not have obtained the best optimal set of hyperparameters for the individual classifier due to time constraint of this project.  \n",
    "\n",
    "\n",
    "### Limitations<a id='section_8_2'></a>\n",
    "\n",
    "There are several limitations to this study that should be considered when interpreting the results. First, our sample size was relatively small, which may have limited the generalizability of our findings. A larger sample size may have provided more accurate and reliable results.\n",
    "\n",
    "Second, our model was trained on a specific dataset and may not be applicable to other datasets with different variables. This may limit the usefulness of our model in real-world applications.\n",
    "\n",
    "Third, we only considered the impact of one variable (cholesterol) on the performance of our model while keeping all other variables. Including more variables to our study may have an different impact on the model's performance.\n",
    "\n",
    "### Ethics & Privacy<a id='section_8_3'></a>\n",
    "\n",
    "Studying heart disease datasets may raise several ethical issues that need to be addressed to ensure that the research is conducted in a responsible and ethical manner. Some of the ethical issues that may arise in studying heart disease datasets are:\n",
    "\n",
    "- Informed consent: The issue of informed consent arises when researchers collect and use patient data without their knowledge or permission. Researchers should obtain informed consent from patients before collecting and using their data.\n",
    "\n",
    "- Confidentiality and privacy: Patient data should be kept confidential and private to protect their privacy. Researchers should take appropriate measures to ensure that patient data is not disclosed or shared with unauthorized persons.\n",
    "\n",
    "- Data bias: There is a risk of data bias when datasets are not representative of the population being studied. Researchers should ensure that datasets are diverse and representative to avoid biases.\n",
    "\n",
    "- Data ownership: Ownership of the data is an important issue when studying heart disease datasets. Researchers should respect the ownership rights of the patients and the institutions that provided the data.\n",
    "\n",
    "- Data security: There is a risk of data breaches when working with large datasets. Researchers should take appropriate measures to ensure the security of the data and prevent unauthorized access.\n",
    "\n",
    "- Data accuracy and validity: The accuracy and validity of the data are important for drawing reliable conclusions from the research. Researchers should ensure that the data is accurate and valid and that any errors or discrepancies are corrected.\n",
    "\n",
    "- Fair distribution of benefits: The benefits of the research should be fairly distributed among all parties involved. Patients should be informed about the benefits and risks of the research, and their rights should be protected. Researchers should ensure that the benefits of the research are distributed fairly among all parties involved.\n",
    "\n",
    "Addressing these ethical issues is critical for conducting responsible and ethical research on heart disease datasets to ensure that the models are fair and unbiased. Without more information about the data collection process and the methods used to ensure ethical considerations, it is difficult to determine whether the UCI archive heart disease dataset meets all the ethical concerns outlined above. The dataset comprises observations from four databases: Cleveland, Hungary, Switzerland, and the VA Long Beach. Since the names and social security numbers of the patients were removed from the database and replaced with dummy values, we can be sure that confidentiality and privacy are guaranteed, at the very least. Second, the dataset is licensed under a Creative Commons Attribution 4.0 International (CC BY 4.0) license, which means that the dataset can be shared and modified for any use, as long as proper credit is provided. In addition, we took measures to confirm that the attributes and entries of the downloaded data corresponded to the description provided on the UCI archive website. This ensures that the dataset used in our project fulfills all the potential ethical concerns that were mentioned.\n",
    "\n",
    "### Conclusion<a id='section_8_4'></a>\n",
    "\n",
    "In conclusion, our findings have shown that excluding the cholesterol variable from the model has a negative impact on model performance in predicting presence of heart disease in patients. Further studies are needed to identify the reasons for this and explore possible solutions to improve the accuracy and recall scores of the model. A possible approach could be to explore other variables that may improve the performance of the model. It is also beneficial to further investigate to find a better set of hyperparameters for each of the individual classifier used in our ensemble classifier."
   ]
  },
  {
   "cell_type": "markdown",
   "metadata": {},
   "source": [
    "## Footnotes<a id='section9'></a>\n",
    "<a name=\"clarknote\"></a> 1.[^](#clark): Clark LT (1986). Cholesterol and heart disease: current concepts in pathogenesis and treatment. J Natl Med Assoc. 1986 Aug;78(8):743-51. PMID: 3531531; PMCID: PMC2571342. https://www.ncbi.nlm.nih.gov/pmc/articles/PMC2571342/<br> \n",
    "\n",
    "<a name=\"dongnote\"></a> 2.[^](#dong): Dong T, et al. (2020). The effects of low-carbohydrate diets on cardiovascular risk factors: A meta-analysis. PLoS One. 2020 Jan 14;15(1):e0225348. doi: 10.1371/journal.pone.0225348. PMID: 31935216; PMCID: PMC6959586. https://pubmed.ncbi.nlm.nih.gov/31935216/<br>\n",
    "\n",
    "<a name=\"wikinote\"></a> 3.[^](#wikipedia): Wikipedia (2023). Replication crisis. Wikipedia. Available at: https://en.wikipedia.org/wiki/Replication_crisis#References (Accessed: March 3, 2023)<br>\n",
    "\n",
    "<a name=\"ioannidisjpda\"></a> 4.[^](#ioannidis): Ioannidis JPA (2005). Why Most Published Research Findings Are False. PLOS Medicine 2(8): e124. https://doi.org/10.1371/journal.pmed.0020124<br>\n",
    "\n",
    "<a name=\"solimannote\"></a> 5.[^](#soliman): Soliman GA (2018). Dietary Cholesterol and the Lack of Evidence in Cardiovascular Disease. Nutrients. 2018 Jun 16;10(6):780. doi: 10.3390/nu10060780. PMID: 29914176; PMCID: PMC6024687. https://www.ncbi.nlm.nih.gov/pmc/articles/PMC6024687/<br> \n",
    "\n",
    "<a name=\"rcsinote\"></a> 6.[^](#rcsi): ScienceDaily (2022). Link between high cholesterol and heart disease 'inconsistent', new study finds (2022) ScienceDaily. Available at: https://www.sciencedaily.com/releases/2022/03/220314120702.htm (Accessed: March 3, 2023)<br> \n",
    "\n",
    "<a name=\"Bhatnote\"></a> 7.[^](#Bhat): Bhat N. EDA+Classification+Ensemble ~ 92% Accuracy. Kaggle. Available at: https://www.kaggle.com/code/nareshbhat/eda-classification-ensemble-92-accuracy/notebook (Accessed: March 6, 2023)<br>\n",
    "\n",
    "<a name=\"Ruteckinote\"></a> 8.[^](#Rutecki): Rutecki M. Voting Classifier for Better Results. Kaggle. Available at: https://www.kaggle.com/code/marcinrutecki/voting-classifier-for-better-results#4.-Model-selection (Accessed: March 6, 2023)<br>\n",
    "\n",
    "<a name=\"Duanote\"></a>9.[^](#Dua): Dua, D. and Graff, C. (2019). UCI Machine Learning Repository. Available at: https://archive-beta.ics.uci.edu/dataset/45/heart+disease. Irvine, CA: University of California, School of Information and Computer Science.\n"
   ]
  }
 ],
 "metadata": {
  "kernelspec": {
   "display_name": "Python 3 (ipykernel)",
   "language": "python",
   "name": "python3"
  },
  "language_info": {
   "codemirror_mode": {
    "name": "ipython",
    "version": 3
   },
   "file_extension": ".py",
   "mimetype": "text/x-python",
   "name": "python",
   "nbconvert_exporter": "python",
   "pygments_lexer": "ipython3",
   "version": "3.9.5"
  }
 },
 "nbformat": 4,
 "nbformat_minor": 2
}
